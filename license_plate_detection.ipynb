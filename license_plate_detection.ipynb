{
  "cells": [
    {
      "cell_type": "code",
      "execution_count": null,
      "metadata": {
        "colab": {
          "base_uri": "https://localhost:8080/",
          "height": 495
        },
        "id": "hAmJfRi5xNYG",
        "outputId": "d0bb98ec-4c02-4a36-c6a1-3ec5dc697559"
      },
      "outputs": [],
      "source": [
        "import cv2\n",
        "from matplotlib import pyplot as plt\n",
        "import numpy as np\n",
        "import imutils\n",
        "import easyocr"
      ]
    },
    {
      "cell_type": "code",
      "execution_count": null,
      "metadata": {
        "colab": {
          "background_save": true,
          "base_uri": "https://localhost:8080/",
          "height": 452
        },
        "id": "w2QmmgkrxlUs",
        "outputId": "28f0df0d-361a-48bc-86b5-3bd8d19b6abf"
      },
      "outputs": [],
      "source": [
        "img = cv2.imread('Img/image2.jpg')\n",
        "gray = cv2.cvtColor(img, cv2.COLOR_BGR2GRAY)\n",
        "plt.imshow(cv2.cvtColor(gray, cv2.COLOR_BGR2RGB))"
      ]
    },
    {
      "cell_type": "code",
      "execution_count": null,
      "metadata": {
        "colab": {
          "background_save": true,
          "base_uri": "https://localhost:8080/",
          "height": 452
        },
        "id": "3Tuw-cWuyA1T",
        "outputId": "9a5c633d-b3d7-48eb-c6d1-17cc7fb7fe48"
      },
      "outputs": [],
      "source": [
        "bfilter = cv2.bilateralFilter(gray, 11, 17, 17) #Noise reduction\n",
        "edged = cv2.Canny(bfilter, 30, 200) #Edge detection\n",
        "plt.imshow(cv2.cvtColor(edged, cv2.COLOR_BGR2RGB))"
      ]
    },
    {
      "cell_type": "code",
      "execution_count": null,
      "metadata": {
        "id": "leHpOr04yFuH"
      },
      "outputs": [],
      "source": [
        "keypoints = cv2.findContours(edged.copy(), cv2.RETR_TREE, cv2.CHAIN_APPROX_SIMPLE)\n",
        "contours = imutils.grab_contours(keypoints)\n",
        "contours = sorted(contours, key=cv2.contourArea, reverse=True)[:10]"
      ]
    },
    {
      "cell_type": "code",
      "execution_count": null,
      "metadata": {
        "id": "9wWAqukNyJ89"
      },
      "outputs": [],
      "source": [
        "location = None\n",
        "for contour in contours:\n",
        "    approx = cv2.approxPolyDP(contour, 10, True)\n",
        "    if len(approx) == 4:\n",
        "        location = approx\n",
        "        break"
      ]
    },
    {
      "cell_type": "code",
      "execution_count": null,
      "metadata": {
        "colab": {
          "base_uri": "https://localhost:8080/"
        },
        "id": "1yOHdk7XyMGg",
        "outputId": "cd8b85c0-a2ca-4c40-f107-a87166538c61"
      },
      "outputs": [],
      "source": [
        "location"
      ]
    },
    {
      "cell_type": "code",
      "execution_count": null,
      "metadata": {
        "id": "HMhxwZAfyOCV"
      },
      "outputs": [],
      "source": [
        "mask = np.zeros(gray.shape, np.uint8)\n",
        "new_image = cv2.drawContours(mask, [location], 0,255, -1)\n",
        "new_image = cv2.bitwise_and(img, img, mask=mask)"
      ]
    },
    {
      "cell_type": "code",
      "execution_count": null,
      "metadata": {
        "colab": {
          "base_uri": "https://localhost:8080/",
          "height": 452
        },
        "id": "3D28NVpCyQEG",
        "outputId": "cf2da796-6d2c-4091-8e1d-b438d284a886"
      },
      "outputs": [],
      "source": [
        "plt.imshow(cv2.cvtColor(new_image, cv2.COLOR_BGR2RGB))"
      ]
    },
    {
      "cell_type": "code",
      "execution_count": null,
      "metadata": {
        "id": "UdPUrCXsySCI"
      },
      "outputs": [],
      "source": [
        "(x,y) = np.where(mask==255)\n",
        "(x1, y1) = (np.min(x), np.min(y))\n",
        "(x2, y2) = (np.max(x), np.max(y))\n",
        "cropped_image = gray[x1:x2+1, y1:y2+1]"
      ]
    },
    {
      "cell_type": "code",
      "execution_count": null,
      "metadata": {
        "colab": {
          "base_uri": "https://localhost:8080/",
          "height": 182
        },
        "id": "m_Q3xDqyyVHS",
        "outputId": "88e08c6a-7faa-4edc-efed-e21c74a35b40"
      },
      "outputs": [],
      "source": [
        "plt.imshow(cv2.cvtColor(cropped_image, cv2.COLOR_BGR2RGB))"
      ]
    },
    {
      "cell_type": "code",
      "execution_count": null,
      "metadata": {
        "colab": {
          "base_uri": "https://localhost:8080/"
        },
        "id": "W8WpEy0CyXEi",
        "outputId": "8638eb93-db20-4380-e556-c445e8af67bd"
      },
      "outputs": [],
      "source": [
        "reader = easyocr.Reader(['en'])\n",
        "result = reader.readtext(cropped_image)\n",
        "result"
      ]
    },
    {
      "cell_type": "code",
      "execution_count": null,
      "metadata": {
        "colab": {
          "background_save": true,
          "base_uri": "https://localhost:8080/",
          "height": 452
        },
        "id": "HQrcPQ6XyZSm",
        "outputId": "3a8d9413-4547-44e8-e8ae-edc332e1c764"
      },
      "outputs": [],
      "source": [
        "text = result[0][-2]\n",
        "font = cv2.FONT_HERSHEY_SIMPLEX\n",
        "res = cv2.putText(img, text=text, org=(approx[0][0][0], approx[1][0][1]+60), fontFace=font, fontScale=1, color=(0,255,0), thickness=2, lineType=cv2.LINE_AA)\n",
        "res = cv2.rectangle(img, tuple(approx[0][0]), tuple(approx[2][0]), (0,255,0),3)\n",
        "plt.imshow(cv2.cvtColor(res, cv2.COLOR_BGR2RGB))"
      ]
    }
  ],
  "metadata": {
    "colab": {
      "provenance": []
    },
    "kernelspec": {
      "display_name": "Python 3",
      "name": "python3"
    },
    "language_info": {
      "codemirror_mode": {
        "name": "ipython",
        "version": 3
      },
      "file_extension": ".py",
      "mimetype": "text/x-python",
      "name": "python",
      "nbconvert_exporter": "python",
      "pygments_lexer": "ipython3",
      "version": "3.12.4"
    }
  },
  "nbformat": 4,
  "nbformat_minor": 0
}
